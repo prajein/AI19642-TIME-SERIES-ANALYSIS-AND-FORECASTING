{
  "cells": [
    {
      "cell_type": "code",
      "execution_count": 4,
      "metadata": {
        "id": "Fq5MaZEpcXTI"
      },
      "outputs": [],
      "source": [
        "import pandas as pd\n",
        "import numpy as np\n",
        "import matplotlib.pyplot as plt\n",
        "from statsmodels.tsa.api import VAR\n",
        "from statsmodels.tsa.stattools import adfuller\n",
        "from sklearn.preprocessing import MinMaxScaler\n"
      ]
    },
    {
      "cell_type": "code",
      "execution_count": null,
      "metadata": {
        "id": "K3yglhHScmVH"
      },
      "outputs": [],
      "source": [
        "\n",
        "# Load the dataset\n",
        "url = '/content/superstores.csv'\n",
        "df = pd.read_csv(url, parse_dates=['Month'], index_col='Month')\n",
        "\n",
        "\n"
      ]
    },
    {
      "cell_type": "code",
      "execution_count": 7,
      "metadata": {
        "colab": {
          "base_uri": "https://localhost:8080/"
        },
        "id": "xVkgBK8Hfpry",
        "outputId": "4884f1e6-97eb-4371-82c1-993f9fbf4b8b"
      },
      "outputs": [
        {
          "name": "stderr",
          "output_type": "stream",
          "text": [
            "/usr/local/lib/python3.11/dist-packages/statsmodels/tsa/base/tsa_model.py:473: ValueWarning: No frequency information was provided, so inferred frequency MS will be used.\n",
            "  self._init_dates(dates, freq)\n"
          ]
        }
      ],
      "source": [
        "\n",
        "# Normalize the data\n",
        "scaler = MinMaxScaler()\n",
        "scaled_data = scaler.fit_transform(df)\n",
        "\n",
        "df_scaled = pd.DataFrame(scaled_data, columns=df.columns, index=df.index)\n",
        "\n",
        "# Check stationarity and difference if needed\n",
        "def test_stationarity(timeseries):\n",
        "    result = adfuller(timeseries)\n",
        "    return result[1]  # p-value\n",
        "\n",
        "# Differencing if not stationary\n",
        "df_diff = df_scaled.diff().dropna()\n",
        "\n",
        "# Fit the VAR model\n",
        "model = VAR(df_diff)\n",
        "results = model.fit(maxlags=15, ic='aic')\n",
        "\n",
        "# Forecasting\n",
        "forecast_steps = 12\n",
        "forecast = results.forecast(df_diff.values[-results.k_ar:], steps=forecast_steps)\n",
        "\n",
        "# Convert to DataFrame and reverse differencing\n",
        "forecast_df = pd.DataFrame(forecast, index=pd.date_range(start=df.index[-1], periods=forecast_steps+1, freq='MS')[1:],\n",
        "                           columns=df.columns)\n",
        "\n",
        "# Cumulative sum to reverse differencing\n",
        "last_values = df_scaled.iloc[-1]\n",
        "forecast_reversed = forecast_df.cumsum() + last_values\n",
        "\n",
        "# Inverse transform the data\n",
        "forecast_original = pd.DataFrame(scaler.inverse_transform(forecast_reversed),\n",
        "                                 columns=df.columns, index=forecast_reversed.index)\n"
      ]
    },
    {
      "cell_type": "code",
      "execution_count": null,
      "metadata": {
        "colab": {
          "base_uri": "https://localhost:8080/",
          "height": 487
        },
        "id": "B0j6y3HGfs63",
        "outputId": "1475e648-3354-468c-b08a-a179a0a64927"
      },
      "outputs": [],
      "source": [
        "\n",
        "# Plot Forecast\n",
        "plt.figure(figsize=(10,5))\n",
        "plt.plot(df.index, df['#Passengers'], label='Original')\n",
        "plt.plot(forecast_original.index, forecast_original['#Passengers'], label='Forecast', linestyle='--')\n",
        "plt.legend()\n",
        "plt.title(\"Autism Forecast with VAR Model\")\n",
        "plt.xlabel(\"Date\")\n",
        "plt.ylabel(\"Passengers\")\n",
        "plt.show()\n"
      ]
    },
    {
      "cell_type": "code",
      "execution_count": null,
      "metadata": {
        "id": "b2opSUI5ftdg"
      },
      "outputs": [],
      "source": []
    }
  ],
  "metadata": {
    "colab": {
      "provenance": []
    },
    "kernelspec": {
      "display_name": "Python 3",
      "name": "python3"
    },
    "language_info": {
      "name": "python"
    }
  },
  "nbformat": 4,
  "nbformat_minor": 0
}
