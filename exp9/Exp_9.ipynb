{
  "cells": [
    {
      "cell_type": "code",
      "execution_count": null,
      "metadata": {
        "colab": {
          "base_uri": "https://localhost:8080/",
          "height": 1000
        },
        "id": "glSk1YcaiqSu",
        "outputId": "2080dab1-dc3f-41b0-f427-cf81b0ae4d61"
      },
      "outputs": [],
      "source": [
        "# Step 1: Import Libraries\n",
        "import pandas as pd\n",
        "import numpy as np\n",
        "import matplotlib.pyplot as plt\n",
        "\n",
        "from sklearn.preprocessing import MinMaxScaler\n",
        "from tensorflow.keras.models import Sequential\n",
        "from tensorflow.keras.layers import LSTM, Dense\n",
        "\n",
        "# Step 2: Load the dataset\n",
        "df = pd.read_csv('/content/superstores.csv')\n",
        "df.columns = ['Month', 'Passengers']\n",
        "df['Month'] = pd.to_datetime(df['Month'])\n",
        "df.set_index('Month', inplace=True)\n",
        "\n",
        "# Step 3: Normalize the data\n",
        "scaler = MinMaxScaler()\n",
        "scaled_data = scaler.fit_transform(df)\n",
        "\n",
        "# Step 4: Create sequences for LSTM\n",
        "def create_sequences(data, time_step=10):\n",
        "    X, y = [], []\n",
        "    for i in range(len(data) - time_step):\n",
        "        X.append(data[i:i + time_step])\n",
        "        y.append(data[i + time_step])\n",
        "    return np.array(X), np.array(y)\n",
        "\n",
        "time_step = 10\n",
        "X, y = create_sequences(scaled_data, time_step)\n",
        "\n",
        "# Step 5: Train-test split\n",
        "split = int(len(X) * 0.8)\n",
        "X_train, X_test = X[:split], X[split:]\n",
        "y_train, y_test = y[:split], y[split:]\n",
        "\n",
        "# Step 6: Define the LSTM model\n",
        "model = Sequential()\n",
        "model.add(LSTM(50, return_sequences=False, input_shape=(X_train.shape[1], 1)))\n",
        "model.add(Dense(1))\n",
        "model.compile(optimizer='adam', loss='mean_squared_error')\n",
        "\n",
        "# Step 7: Train the model\n",
        "model.fit(X_train, y_train, epochs=100, batch_size=16, verbose=1)\n",
        "\n",
        "# Step 8: Make predictions\n",
        "train_pred = model.predict(X_train)\n",
        "test_pred = model.predict(X_test)\n",
        "\n",
        "# Step 9: Inverse transform to get actual values\n",
        "train_pred = scaler.inverse_transform(train_pred)\n",
        "y_train_inv = scaler.inverse_transform(y_train.reshape(-1, 1))\n",
        "test_pred = scaler.inverse_transform(test_pred)\n",
        "y_test_inv = scaler.inverse_transform(y_test.reshape(-1, 1))\n",
        "\n",
        "# Step 10: Plot the results\n",
        "plt.figure(figsize=(12,6))\n",
        "plt.plot(df.index[time_step:split + time_step], y_train_inv, label='Train Actual')\n",
        "plt.plot(df.index[time_step:split + time_step], train_pred, label='Train Predicted')\n",
        "plt.plot(df.index[split + time_step:], y_test_inv, label='Test Actual')\n",
        "plt.plot(df.index[split + time_step:], test_pred, label='Test Predicted')\n",
        "plt.legend()\n",
        "plt.title('Autism Forecast using LSTM')\n",
        "plt.xlabel('Time')\n",
        "plt.ylabel('Passengers')\n",
        "plt.grid(True)\n",
        "plt.show()\n",
        "\n"
      ]
    },
    {
      "cell_type": "code",
      "execution_count": 17,
      "metadata": {
        "id": "Ko0y5XazvaIs"
      },
      "outputs": [],
      "source": [
        "\n"
      ]
    },
    {
      "cell_type": "code",
      "execution_count": 17,
      "metadata": {
        "id": "0IuYuuZKv3kO"
      },
      "outputs": [],
      "source": [
        "\n"
      ]
    },
    {
      "cell_type": "code",
      "execution_count": 17,
      "metadata": {
        "id": "ma1KcALTv5J-"
      },
      "outputs": [],
      "source": []
    },
    {
      "cell_type": "code",
      "execution_count": 17,
      "metadata": {
        "id": "7OTgmJDyv60P"
      },
      "outputs": [],
      "source": []
    },
    {
      "cell_type": "code",
      "execution_count": 17,
      "metadata": {
        "id": "gcIEA3C1v8hS"
      },
      "outputs": [],
      "source": []
    },
    {
      "cell_type": "code",
      "execution_count": null,
      "metadata": {
        "id": "Rd9KT0pNv9Qg"
      },
      "outputs": [],
      "source": []
    }
  ],
  "metadata": {
    "colab": {
      "provenance": []
    },
    "kernelspec": {
      "display_name": "Python 3",
      "name": "python3"
    },
    "language_info": {
      "name": "python"
    }
  },
  "nbformat": 4,
  "nbformat_minor": 0
}
